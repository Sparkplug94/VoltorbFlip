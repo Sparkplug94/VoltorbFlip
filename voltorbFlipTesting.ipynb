{
 "cells": [
  {
   "cell_type": "code",
   "execution_count": 58,
   "id": "6f9ac5f8-7faf-4e32-b2b8-a369436c3a23",
   "metadata": {},
   "outputs": [
    {
     "name": "stdout",
     "output_type": "stream",
     "text": [
      "The autoreload extension is already loaded. To reload it, use:\n",
      "  %reload_ext autoreload\n"
     ]
    }
   ],
   "source": [
    "%load_ext autoreload\n",
    "%autoreload\n",
    "from AlgorithmTesting.classes import *"
   ]
  },
  {
   "cell_type": "code",
   "execution_count": 61,
   "id": "0192cf7f-6bef-450c-87db-c1e9f2fb50b3",
   "metadata": {},
   "outputs": [
    {
     "name": "stderr",
     "output_type": "stream",
     "text": [
      "Winrate: 35.6: 100%|███████████████████████| 1000/1000 [00:01<00:00, 674.17it/s]"
     ]
    },
    {
     "name": "stdout",
     "output_type": "stream",
     "text": [
      "\n",
      "\n",
      "Success Rate: 35.6%\n"
     ]
    },
    {
     "name": "stderr",
     "output_type": "stream",
     "text": [
      "\n"
     ]
    }
   ],
   "source": [
    "#standard imports\n",
    "import numpy as np\n",
    "from AlgorithmTesting.classes import *\n",
    "from tqdm import tqdm\n",
    "import sys\n",
    "\n",
    "#set the recursion limit to 5k\n",
    "sys.setrecursionlimit(10000)\n",
    "\n",
    "def prettyPrint(map):\n",
    "    totalLen = 5\n",
    "    for row in map:\n",
    "        printline = ''\n",
    "        for elemf in row:\n",
    "            elem = str(elemf)\n",
    "            printline = printline + elem\n",
    "            for k in range(0, totalLen - len(elem)):\n",
    "                printline = printline + ' '\n",
    "        print(printline)\n",
    "\n",
    "successes = []\n",
    "trials = 1000\n",
    "branching = 0\n",
    "realLevel2Board = 0\n",
    "\n",
    "\n",
    "pbar = tqdm(range(0,trials))\n",
    "for i in pbar:\n",
    "    flag = playVoltorbFlip(branching = branching, realBoard = realLevel2Board)\n",
    "    successes.append(flag)\n",
    "    wr = 100*np.sum(successes)/(i+1)\n",
    "    pbar.set_description(\"Winrate: %s\" % wr)\n",
    "        \n",
    "    \n",
    "\n",
    "winrate = 100*sum(successes)/len(successes) #print win rate\n",
    "print('\\n\\nSuccess Rate: '+str(winrate)+'%')\n"
   ]
  },
  {
   "cell_type": "code",
   "execution_count": null,
   "id": "f9239125-4a97-41e8-bde9-8a31a2d27f41",
   "metadata": {},
   "outputs": [],
   "source": []
  }
 ],
 "metadata": {
  "kernelspec": {
   "display_name": "Python 3 (ipykernel)",
   "language": "python",
   "name": "python3"
  },
  "language_info": {
   "codemirror_mode": {
    "name": "ipython",
    "version": 3
   },
   "file_extension": ".py",
   "mimetype": "text/x-python",
   "name": "python",
   "nbconvert_exporter": "python",
   "pygments_lexer": "ipython3",
   "version": "3.10.6"
  }
 },
 "nbformat": 4,
 "nbformat_minor": 5
}
